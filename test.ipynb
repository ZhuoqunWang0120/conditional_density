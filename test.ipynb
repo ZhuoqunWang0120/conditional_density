{
 "cells": [
  {
   "cell_type": "code",
   "execution_count": 10,
   "metadata": {},
   "outputs": [],
   "source": [
    "from utils import *\n",
    "import matplotlib.pyplot as plt"
   ]
  },
  {
   "cell_type": "code",
   "execution_count": 11,
   "metadata": {},
   "outputs": [],
   "source": [
    "root = TreeNode(depth = 1)\n",
    "root.generate_full(depth = 3, root = root)"
   ]
  },
  {
   "cell_type": "code",
   "execution_count": 12,
   "metadata": {},
   "outputs": [],
   "source": [
    "root.setattr_bfs_iterative('theta', [1,2,3,4,5,6,7])"
   ]
  },
  {
   "cell_type": "code",
   "execution_count": 13,
   "metadata": {},
   "outputs": [
    {
     "data": {
      "text/plain": [
       "[1, 2, 3, 4, 5, 6, 7]"
      ]
     },
     "execution_count": 13,
     "metadata": {},
     "output_type": "execute_result"
    }
   ],
   "source": [
    "output = []\n",
    "root.getattr_bfs('theta', output)\n",
    "output"
   ]
  },
  {
   "cell_type": "code",
   "execution_count": 14,
   "metadata": {},
   "outputs": [
    {
     "data": {
      "text/plain": [
       "[1, 2, 4, 5, 3, 6, 7]"
      ]
     },
     "execution_count": 14,
     "metadata": {},
     "output_type": "execute_result"
    }
   ],
   "source": [
    "output = []\n",
    "root.getattr_preorder('theta', output)\n",
    "output"
   ]
  },
  {
   "cell_type": "code",
   "execution_count": 15,
   "metadata": {},
   "outputs": [
    {
     "data": {
      "text/plain": [
       "[1, 2, 3, 4, 5, 6, 7]"
      ]
     },
     "execution_count": 15,
     "metadata": {},
     "output_type": "execute_result"
    }
   ],
   "source": [
    "[root.theta, root.left.theta, root.right.theta, root.left.left.theta, root.left.right.theta, root.right.left.theta, root.right.right.theta]"
   ]
  },
  {
   "attachments": {},
   "cell_type": "markdown",
   "metadata": {},
   "source": [
    "test `log_likelihood_univariate`"
   ]
  },
  {
   "cell_type": "code",
   "execution_count": 22,
   "metadata": {},
   "outputs": [],
   "source": [
    "root.setattr_bfs_iterative('pleft', [0.1, 0.2, 0.3, None, None, None, None])\n",
    "root.setattr_bfs_iterative('split', [0.5, 0.25, 0.75, None, None, None, None])\n",
    "root.setattr_bfs_iterative('left_bound', [0., 0., 0.5, 0., 0.25, 0.5, 0.75])\n",
    "root.setattr_bfs_iterative('right_bound', [1., 0.5, 1., 0.25, 0.5, 0.75, 1.])"
   ]
  },
  {
   "cell_type": "code",
   "execution_count": 23,
   "metadata": {},
   "outputs": [
    {
     "data": {
      "text/plain": [
       "(0.02000000000000001, 0.08000000000000002, 0.26999999999999996, 0.63)"
      ]
     },
     "execution_count": 23,
     "metadata": {},
     "output_type": "execute_result"
    },
    {
     "data": {
      "image/png": "[encoded data removed]",
      "text/plain": [
       "<Figure size 432x288 with 1 Axes>"
      ]
     },
     "metadata": {
      "needs_background": "light"
     },
     "output_type": "display_data"
    }
   ],
   "source": [
    "yvec= np.linspace(0.01, 0.99, 100)\n",
    "dens = [np.exp(root.log_likelihood_univariate(y)) for y in yvec]\n",
    "plt.plot(yvec, dens)\n",
    "dens[0], dens[30], dens[60], dens[99]"
   ]
  },
  {
   "attachments": {},
   "cell_type": "markdown",
   "metadata": {},
   "source": [
    "test `split2bound`"
   ]
  },
  {
   "cell_type": "code",
   "execution_count": 26,
   "metadata": {},
   "outputs": [
    {
     "data": {
      "text/plain": [
       "([0.0, None, None, None, None, None, None],\n",
       " [1.0, None, None, None, None, None, None])"
      ]
     },
     "execution_count": 26,
     "metadata": {},
     "output_type": "execute_result"
    }
   ],
   "source": [
    "root2 = TreeNode()\n",
    "root2.generate_full(depth = 3, root = root2)\n",
    "root2.setattr_bfs_iterative('split', [0.3, 0.2, 0.9, None, None, None, None])\n",
    "root2.left_bound = 0.\n",
    "root2.right_bound = 1.\n",
    "lo, ro = [], []\n",
    "root2.getattr_bfs('left_bound', lo)\n",
    "root2.getattr_bfs('right_bound', ro)\n",
    "lo, ro\n"
   ]
  },
  {
   "cell_type": "code",
   "execution_count": 27,
   "metadata": {},
   "outputs": [
    {
     "data": {
      "text/plain": [
       "([0.0, 0.0, 0.3, 0.0, 0.2, 0.3, 0.9], [1.0, 0.3, 1.0, 0.2, 0.3, 0.9, 1.0])"
      ]
     },
     "execution_count": 27,
     "metadata": {},
     "output_type": "execute_result"
    }
   ],
   "source": [
    "root2.split2bound()\n",
    "lo, ro = [], []\n",
    "root2.getattr_bfs('left_bound', lo)\n",
    "root2.getattr_bfs('right_bound', ro)\n",
    "lo, ro"
   ]
  },
  {
   "attachments": {},
   "cell_type": "markdown",
   "metadata": {},
   "source": [
    "test `log_likelihood_univariate` again"
   ]
  },
  {
   "cell_type": "code",
   "execution_count": 30,
   "metadata": {},
   "outputs": [
    {
     "name": "stderr",
     "output_type": "stream",
     "text": [
      "/Users/zhuoqunwang/conditional_density/utils.py:64: RuntimeWarning: divide by zero encountered in log\n",
      "  return np.log(self.pleft) + self.left.log_likelihood_univariate(y)\n",
      "/Users/zhuoqunwang/conditional_density/utils.py:64: RuntimeWarning: divide by zero encountered in log\n",
      "  return np.log(self.pleft) + self.left.log_likelihood_univariate(y)\n"
     ]
    },
    {
     "data": {
      "text/plain": [
       "[-inf,\n",
       " -inf,\n",
       " -inf,\n",
       " -inf,\n",
       " -inf,\n",
       " -inf,\n",
       " -inf,\n",
       " -inf,\n",
       " -inf,\n",
       " -inf,\n",
       " -inf,\n",
       " -inf,\n",
       " -inf,\n",
       " -inf,\n",
       " -inf,\n",
       " -inf,\n",
       " -inf,\n",
       " -inf,\n",
       " -inf,\n",
       " -inf,\n",
       " -inf,\n",
       " -inf,\n",
       " -inf,\n",
       " -inf,\n",
       " -inf,\n",
       " -inf,\n",
       " -inf,\n",
       " -inf,\n",
       " -inf,\n",
       " -inf,\n",
       " -1.2039728043259361,\n",
       " -1.2039728043259361,\n",
       " -1.2039728043259361,\n",
       " -1.2039728043259361,\n",
       " -1.2039728043259361,\n",
       " -1.2039728043259361,\n",
       " -1.2039728043259361,\n",
       " -1.2039728043259361,\n",
       " -1.2039728043259361,\n",
       " -1.2039728043259361,\n",
       " -1.2039728043259361,\n",
       " -1.2039728043259361,\n",
       " -1.2039728043259361,\n",
       " -1.2039728043259361,\n",
       " -1.2039728043259361,\n",
       " -1.2039728043259361,\n",
       " -1.2039728043259361,\n",
       " -1.2039728043259361,\n",
       " -1.2039728043259361,\n",
       " -1.2039728043259361,\n",
       " -1.2039728043259361,\n",
       " -1.2039728043259361,\n",
       " -1.2039728043259361,\n",
       " -1.2039728043259361,\n",
       " -1.2039728043259361,\n",
       " -1.2039728043259361,\n",
       " -1.2039728043259361,\n",
       " -1.2039728043259361,\n",
       " -1.2039728043259361,\n",
       " -1.2039728043259361,\n",
       " -1.2039728043259361,\n",
       " -1.2039728043259361,\n",
       " -1.2039728043259361,\n",
       " -1.2039728043259361,\n",
       " -1.2039728043259361,\n",
       " -1.2039728043259361,\n",
       " -1.2039728043259361,\n",
       " -1.2039728043259361,\n",
       " -1.2039728043259361,\n",
       " -1.2039728043259361,\n",
       " -1.2039728043259361,\n",
       " -1.2039728043259361,\n",
       " -1.2039728043259361,\n",
       " -1.2039728043259361,\n",
       " -1.2039728043259361,\n",
       " -1.2039728043259361,\n",
       " -1.2039728043259361,\n",
       " -1.2039728043259361,\n",
       " -1.2039728043259361,\n",
       " -1.2039728043259361,\n",
       " -1.2039728043259361,\n",
       " -1.2039728043259361,\n",
       " -1.2039728043259361,\n",
       " -1.2039728043259361,\n",
       " -1.2039728043259361,\n",
       " -1.2039728043259361,\n",
       " -1.2039728043259361,\n",
       " -1.2039728043259361,\n",
       " -1.2039728043259361,\n",
       " -1.2039728043259361,\n",
       " -0.35667494393873245,\n",
       " -0.35667494393873245,\n",
       " -0.35667494393873245,\n",
       " -0.35667494393873245,\n",
       " -0.35667494393873245,\n",
       " -0.35667494393873245,\n",
       " -0.35667494393873245,\n",
       " -0.35667494393873245,\n",
       " -0.35667494393873245,\n",
       " -0.35667494393873245]"
      ]
     },
     "execution_count": 30,
     "metadata": {},
     "output_type": "execute_result"
    },
    {
     "data": {
      "image/png": "[encoded data removed]",
      "text/plain": [
       "<Figure size 432x288 with 1 Axes>"
      ]
     },
     "metadata": {
      "needs_background": "light"
     },
     "output_type": "display_data"
    }
   ],
   "source": [
    "root2.setattr_bfs_iterative('pleft', [0.0, 0.2, 0.3, None, None, None, None])\n",
    "yvec = np.linspace(0.01, 0.99, 100)\n",
    "dens = [np.exp(root2.log_likelihood_univariate(y)) for y in yvec]\n",
    "plt.plot(yvec, dens)\n",
    "dens[0], dens[30], dens[60], dens[99]"
   ]
  },
  {
   "cell_type": "code",
   "execution_count": null,
   "metadata": {},
   "outputs": [],
   "source": []
  }
 ],
 "metadata": {
  "kernelspec": {
   "display_name": "biobackery",
   "language": "python",
   "name": "python3"
  },
  "language_info": {
   "codemirror_mode": {
    "name": "ipython",
    "version": 3
   },
   "file_extension": ".py",
   "mimetype": "text/x-python",
   "name": "python",
   "nbconvert_exporter": "python",
   "pygments_lexer": "ipython3",
   "version": "3.7.3"
  },
  "orig_nbformat": 4
 },
 "nbformat": 4,
 "nbformat_minor": 2
}
